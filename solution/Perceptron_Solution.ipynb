{
  "nbformat": 4,
  "nbformat_minor": 0,
  "metadata": {
    "colab": {
      "name": "Perceptron.ipynb",
      "provenance": [],
      "collapsed_sections": []
    },
    "kernelspec": {
      "name": "python3",
      "display_name": "Python 3"
    },
    "language_info": {
      "name": "python"
    }
  },
  "cells": [
    {
      "cell_type": "markdown",
      "metadata": {
        "id": "dque73-WgpoK"
      },
      "source": [
        "# **This is tutorial on Perceptrons and Classifications**\n",
        "\n",
        "You will learn how to implement the perceptron for linear regression, linear classification and how to build nonlinear kernels\n",
        "\n",
        "I will add some theory so that you have better understanding how to implement the perceptron model.\n",
        "\n",
        "## **Basic concepts**\n",
        "\n",
        "### **Linear equation, or Linear Kernel**\n",
        "\n",
        "Overall, you can write any linear equation in this form:\n",
        "\n",
        "$y = \\sum_{i=1}^D w_ix_i + b$\n",
        "\n",
        "Here, $D$ is a length of a vector, so called dimension. I did example D=2, for planar. if D = 1, $y = w*x+b$. if D=2 $y = w_1*x_1 + w_2*x_2 + b$ and so on. \n",
        "\n",
        "In matrix form, you can write this model in vector form:\n",
        "\n",
        "$y = K(\\bar{x} | \\bar{w},b)) = \\bar{w}^T\\bar{x} + b$\n",
        "\n",
        "Here, $T$ is a transposition operator. $\\bar{w}$ and $\\bar{x}$ are vectros of the same size such that $\\bar{w} = [w_1,w_2,w_3, .. , w_D]$ and $\\bar{x} = [x_1,x_2,x_3, .. , x_D]$. So, $\\bar{w}^T\\bar{x}$ is an inner product between vectors and return a scalar. K(x | w,b) means kernel given weights \"w\" and bias \"b\". Alternatively, we can say $K(\\bar{x} | \\bar{w},b)) == K(\\bar{x}) $. It doesn't mean that weight and bias disappeared. It is just hidden for convinience, but its very much is there. \n",
        "\n",
        "Derivatives of the $y$:\n",
        "\n",
        "## $\\frac{\\partial y}{\\partial b} = 1$\n",
        "\n",
        "## $\\frac{\\partial y }{\\partial w_i} = x_i$ or, in a vector form:\n",
        "\n",
        "## $\\frac{\\partial y }{\\partial \\bar{w}} =[\\frac{\\partial y }{\\partial w_1},\\frac{\\partial y }{\\partial w_2},..,\\frac{\\partial y }{\\partial w_D} ] = \\bar{x} = [x_1,x_2, .. , x_D]$\n",
        "\n",
        "### **Sigmoid function**\n",
        "\n",
        "Sigmoid function is very easy to express. \n",
        "\n",
        "## $ \\sigma(x) = \\frac{1}{1+e^{-x}}$\n",
        "\n",
        "Here are properties of the sigmoid function:\n",
        "\n",
        "1.   sigmoid function maps all numbers in real line $(-\\infty,\\infty)$ to the numbers in range $(0,1)$. Also, number 0 is mapped to 0.5.\n",
        "2.   Derivative of the sigmoid function:\n",
        "\n",
        "## $ \\frac{\\partial\\sigma(x)}{\\partial x} = \\sigma(x)(1-\\sigma(x))$ \n",
        "\n",
        "Above equation means that if you know the value $\\sigma(x)$ you can implement derivative of the function just by computing above equation. \n",
        "\n",
        "### **Cross entropy**\n",
        "\n",
        "general equation for cross entropy is:\n",
        "\n",
        "$CE(\\bar{p},\\bar{q}) = - \\sum_{i=1}^N p_i * log(q_i)$\n",
        "\n",
        "Cross entropy is a measure of similarity between probability distribution $\\bar{p}$ and $\\bar{q}$. If $p$ and $q$ very similar, then $CE$ will be higher, if they are different $CE$ will be lower.\n",
        "\n",
        "For binary classification, you can compute cross entropy even simpler:\n",
        "\n",
        "$CE(Y,f(X)) = - \\sum_{i=1}^N [ y_i log(f(x_i)) + (1-y_i)log(1 - f(x_i) ) ]$\n",
        "\n",
        "Keep in mind that N is number of points in training set, therefore $Y = [y_1,y_2,..y_N]$ and $ X = [\\bar{x}_1,\\bar{x}_2, ..,\\bar{x}_N]$. Keep in mind that elements of $X$ are vectors and not scalars, so, dimension of $Y$ is $N$ and dimension of $X$ is $N*D$. K(x) - is a kernel. Simplest kernel is linear function. \n",
        "\n",
        "Loss is negative of cross entropy:\n",
        "\n",
        "$Loss(Y,f(x)) = - CE(Y,f(x))$\n",
        "\n",
        "remember that:\n",
        "\n",
        "$\\max CE(Y,f(x)) = \\min Loss(Y,f(x))$\n",
        "\n",
        "Derivative of the loss function with respect to Kernell is:\n",
        "\n",
        "## $\\frac{\\partial Loss(Y,f(x))}{\\partial b} = \\sum_{i=1}^N [ \\frac{y_i}{f(x_i)} - \\frac{1-y_i}{1 - f(x_i) } ]\\frac{\\partial f(x_i)}{\\partial b}$\n",
        "\n",
        "There are 2 reasons why use Loss over cross entropy:\n",
        "1. You remove the negative sign of the CE function.\n",
        "2. You will think of *minimizing* some function over maximizing. Because in regularization we minimize error. In classification we minimize loss (same as saying to maximize the cross entropy) \n",
        "## **Introduction to backpropogation**\n",
        "\n",
        "### **Chain rule**\n",
        "\n",
        "Observe this effect:\n",
        "\n",
        "## $\\frac{\\partial f(g(x))}{\\partial x} = \\frac{\\partial f}{ \\partial g} * \\frac{\\partial g}{\\partial x}$\n",
        "\n",
        "Why this is usefull?\n",
        "Here how you can compute the derivative of the sigmoid activated linear Kernel:\n",
        "## $\\frac{\\partial \\sigma(K(\\bar{x}))}{\\partial w} = \\frac{\\\\partial \\sigma(K(\\bar{x}))}{\\partial K(\\bar{x})} * \\frac{\\partial K(x)}{\\partial w} = $\n",
        "\n",
        "### $ = [\\sigma(K(\\bar{x}))(1 - \\sigma(K(\\bar{x}))]*\\bar{x}$\n",
        "\n",
        "First part of the above equation is scalar (sigmoid derivative), second part is vector (derivative of linear kernel with respect to weights. \n",
        "\n",
        "### **Idea behind backpropogation is this**\n",
        "\n",
        "You might already see that when you compute the derivative, you need to compute the kernel and sigmoid. If you store this values, when you ***run*** your model once, you can save them to use later for computing derivatives. How to find derivatives, then? Here is simple algorithm:\n",
        "\n",
        "if you have a model F(G(H(x))):\n",
        "\n",
        "1. Find the values h = H(x), g = G(h), f = F(g). Store h,g,f. \n",
        "2. Use values of h,g,f to compute values of $ \\partial F / \\partial x$ . \n",
        "\n",
        "Step (1) is called forward propogation.\n",
        "Step (2) is called backward propogation.\n",
        "\n",
        "## **Learning Step, or Optimization with Gradient Decent**\n",
        "\n",
        "In order to find the values that minimize the loss or error, we need to find a condition, where our loss or error is minimum. From calculus, you know that its a point where gradient is zero. \n",
        "\n",
        "\n",
        "Unfortunately, you can not find the explicit equation for zero gradient of binary classifier loss function. You can try as exercise to show why (don't spend too much time, its impossible)\n",
        "\n",
        "There are however, algorithms to find the minimum of the function, if you can find the gradient of the function. Its called gradient decent optimization. Why? Here is why:\n",
        "\n",
        "1. Gradient of any function $f(w)$ is a tangent line to the function. \n",
        "2. If gradient is positive for value  $w$ function is increasing\n",
        "3. If gradient is negative for value $w$ function is decreasing.\n",
        "4. If function has a minimum, around minimum, the as $x$ increases, function first decreasing, then derivative is equal to zero, then function is increasing. \n",
        "5. Therefore, if gradient is negative, we need to go to positive direction with respect to $w$, to minimize the function\n",
        "6. If gradient is positive, then we need to go to negative direction. \n",
        "\n",
        "Numerically, we can *** update*** our function with the folowing law:\n",
        "\n",
        "> $w_0 =$ any random number\n",
        "\n",
        "> while gradient of $f(w_k)$ is not 0 do:\n",
        "\n",
        ">> ## $w_{k+1} = w_{k} - \\lambda\\frac{\\partial f(w_k)}{\\partial w_k} $\n",
        "\n",
        "\n",
        "$k$ - is a step of the loop, so it means time. Here, $\\lambda$ is step size, normally, you choose $0 < \\lambda < 1$. You need to choose $\\lambda$ small enough to ensure optimization. If you let $\\lambda$ too big, it will not decrease the function $f(w)$. \n",
        "\n",
        "## **To wrap it up!**\n",
        "\n",
        "1. You want to find kernel $K(\\bar{x} | w,b)$ such that it will minimize cross entropy. Remeber, that cross entropy, loss and error function are function of weights and biases.\n",
        "2. You can take derivatve of loss using chain ruel. \n",
        "3. You can find both derivative and output of the model using forward and backward propogation\n",
        "4. To optimize the model, you use gradient decent algorithm.\n",
        "\n"
      ]
    },
    {
      "cell_type": "markdown",
      "metadata": {
        "id": "vAjWAHLFAq6R"
      },
      "source": [
        "# 2. **Working with data.** \n",
        "\n",
        "Here, we will generate linearly separable data for classification task. "
      ]
    },
    {
      "cell_type": "code",
      "metadata": {
        "colab": {
          "base_uri": "https://localhost:8080/",
          "height": 350
        },
        "id": "U_5yKxC2gONP",
        "outputId": "8832ab4a-d427-40e7-e09d-9cc6222b1e9e"
      },
      "source": [
        "import numpy as np # this is a library for working with matrix and vectors\n",
        "from matplotlib import pyplot as plt # this is for plotting the results\n",
        "import copy\n",
        "N = 100\n",
        "mean1 = [-1.0, 1.0]\n",
        "mean2 = [0.0, 0.0]\n",
        "cov = [[0.15 ,0.1 ],[0.1, 0.15]] # needs to be changed\n",
        "X = np.concatenate((np.random.multivariate_normal(mean1,cov,size = int(N/2)),\n",
        "                    np.random.multivariate_normal(mean2,cov,size = int(N/2)))) # points\n",
        "\n",
        "Y = np.concatenate((np.ones(int(N/2)),\n",
        "                    np.zeros(int(N/2))))  # Labels\n",
        "\n",
        "print(Y) # look at Y to see what is going on\n",
        "# plot the values \n",
        "def plotdata(plt,X,Y):\n",
        "  for (x,y) in zip(X,Y):\n",
        "    if (y>0):\n",
        "      plt.plot(x[0],x[1],'bx')\n",
        "    else:\n",
        "      plt.plot(x[0],x[1],'ro')\n",
        "\n",
        "plotdata(plt,X,Y)\n",
        "plt.show()"
      ],
      "execution_count": null,
      "outputs": [
        {
          "output_type": "stream",
          "text": [
            "[1. 1. 1. 1. 1. 1. 1. 1. 1. 1. 1. 1. 1. 1. 1. 1. 1. 1. 1. 1. 1. 1. 1. 1.\n",
            " 1. 1. 1. 1. 1. 1. 1. 1. 1. 1. 1. 1. 1. 1. 1. 1. 1. 1. 1. 1. 1. 1. 1. 1.\n",
            " 1. 1. 0. 0. 0. 0. 0. 0. 0. 0. 0. 0. 0. 0. 0. 0. 0. 0. 0. 0. 0. 0. 0. 0.\n",
            " 0. 0. 0. 0. 0. 0. 0. 0. 0. 0. 0. 0. 0. 0. 0. 0. 0. 0. 0. 0. 0. 0. 0. 0.\n",
            " 0. 0. 0. 0.]\n"
          ],
          "name": "stdout"
        },
        {
          "output_type": "display_data",
          "data": {
            "image/png": "[encoded data removed]",
            "text/plain": [
              "<Figure size 432x288 with 1 Axes>"
            ]
          },
          "metadata": {
            "tags": [],
            "needs_background": "light"
          }
        }
      ]
    },
    {
      "cell_type": "code",
      "metadata": {
        "colab": {
          "base_uri": "https://localhost:8080/",
          "height": 350
        },
        "id": "pEgHIvi7I48P",
        "outputId": "d7c3ca8c-ed78-4325-f43b-2e790d08d259"
      },
      "source": [
        "import random\n",
        "# we need to shuffle them\n",
        "index = list(range(len(Y)))\n",
        "random.shuffle(index)\n",
        "\n",
        "# we are shuffling both Y and X so that they preserve index\n",
        "L = list(zip(X,Y))\n",
        "\n",
        "random.shuffle(L)\n",
        "\n",
        "X,Y = zip(*L)\n",
        "X = np.array(X)\n",
        "Y = np.array(Y)\n",
        "\n",
        "print(Y) # look at how the values are shuffled\n",
        "\n",
        "# plot the values \n",
        "plotdata(plt,X,Y)\n",
        "plt.show()"
      ],
      "execution_count": null,
      "outputs": [
        {
          "output_type": "stream",
          "text": [
            "[0. 0. 0. 1. 0. 1. 1. 1. 0. 0. 0. 0. 1. 0. 1. 1. 1. 0. 1. 1. 0. 1. 1. 1.\n",
            " 1. 0. 1. 0. 1. 0. 0. 1. 1. 1. 0. 0. 1. 0. 1. 1. 0. 0. 0. 1. 1. 0. 1. 1.\n",
            " 0. 1. 1. 0. 1. 0. 0. 0. 1. 1. 0. 0. 0. 1. 1. 1. 1. 1. 0. 1. 0. 1. 1. 0.\n",
            " 1. 1. 0. 0. 0. 0. 0. 0. 0. 0. 1. 0. 1. 1. 0. 1. 1. 1. 0. 0. 0. 1. 0. 0.\n",
            " 1. 1. 0. 0.]\n"
          ],
          "name": "stdout"
        },
        {
          "output_type": "display_data",
          "data": {
            "image/png": "[encoded data removed]",
            "text/plain": [
              "<Figure size 432x288 with 1 Axes>"
            ]
          },
          "metadata": {
            "tags": [],
            "needs_background": "light"
          }
        }
      ]
    },
    {
      "cell_type": "markdown",
      "metadata": {
        "id": "TxVMtdhaA5QY"
      },
      "source": [
        "# 3. **Implementation of Linear classifier**\n",
        "\n",
        "Here, I will show how to implement linear classifier that runs on your CPU. The implementation is very similar to pytorch, so you will understand better on what is going on inside each class. However, keep in mind that this is not how pytorch impelemnts anything. I did it so that you have intuition, on things pretty fast. "
      ]
    },
    {
      "cell_type": "code",
      "metadata": {
        "id": "i18T2vrBgVSw"
      },
      "source": [
        "# Base class for any model\n",
        "class Node:\n",
        "  def __init__(self,):\n",
        "    self._w = None # weight\n",
        "    self._b = None # bias\n",
        "    self._node_out = None\n",
        "\n",
        "  def set_weight(self,w):\n",
        "    self._w[\"weight\"] = np.array(w)\n",
        "  def set_bias(self,b):\n",
        "    self._b[\"bias\"] = b\n",
        "  def get_weight(self,):\n",
        "    return self._w\n",
        "  def get_bias(self,):\n",
        "    return self._b\n",
        "  def weight_bias(self,):\n",
        "    return self._w, self._b\n",
        "  def get_out(self,):\n",
        "    return self._node_out\n",
        "  def zero_grad(self,):\n",
        "    self._w[\"grad\"] = np.zeros(self._w[\"grad\"].shape)\n",
        "    self._b[\"grad\"] = 0\n",
        "  def forward(self,x):\n",
        "    return self.node_out # does nothing, just return the value of output\n",
        "  \n",
        "  def backward(self):\n",
        "    return self._w, self.b # return derivative with respect to weights and biases, base class has no derivative\n",
        "  \n",
        "  def __call__(self,x):\n",
        "    return self.forward(x)\n",
        "\n",
        "\n",
        "## Linear kernel is child of base class\n",
        "class LinearKernel(Node):\n",
        "  def __init__(self, dimension = 1):\n",
        "    super(LinearKernel,self).__init__()\n",
        "    self._w = {\"weight\": np.random.rand(dimension), \"grad\": np.zeros(dimension)} # initialize w_0 to random gradient to zero\n",
        "    self._b = {\"bias\": np.random.rand(), \"grad\": 0} # initialize b_0 to random \n",
        "    self._node_out = []\n",
        "    self._X = None # to store the X\n",
        "\n",
        "  def forward(self,x):\n",
        "    #implement this\n",
        "    self.zero_grad()\n",
        "    self._X = copy.deepcopy(x)\n",
        "    if(len(x.shape)<2):\n",
        "      print(\"value is not correct\")\n",
        "      return \"-1\"\n",
        "    for elem in x:\n",
        "      out = np.dot(self._w[\"weight\"],elem) + self._b[\"bias\"]\n",
        "      self._node_out.append(out)\n",
        "    return np.array(self._node_out)\n",
        "\n",
        "  def backward(self,):\n",
        "    # implement this, should return error, if forward was not called and output is not updated\n",
        "    self._w[\"grad\"] = self._X\n",
        "    self._b[\"grad\"] = np.ones(self._X.shape[0])\n",
        "    self._X = None\n",
        "    self._node_out = []\n",
        "\n",
        "## sigmoid is child of base class\n",
        "class Sigmoid(Node):\n",
        "  def __init__(self, kernel = None):\n",
        "    super(Sigmoid,self).__init__()\n",
        "    \n",
        "    # throw error if kernel is empty !\n",
        "\n",
        "    self._kernel = kernel # this might be any kernel object\n",
        "\n",
        "    ## don't forget to properly initialize weight, bias and initial value. \n",
        "    ## bias and weights are just passed from the kernel. You should keep in mind that\n",
        "    ## when bias and weight of the kernel is updated, the bias and weight of sigmoid is also updated.\n",
        "    self._w , self._b = kernel.weight_bias()\n",
        "    self._node_out = []\n",
        "\n",
        "  def forward(self,x):\n",
        "    #implement this\n",
        "    self.zero_grad()\n",
        "    kernel_out = self._kernel(x)\n",
        "    for elem in kernel_out:\n",
        "      out = 1.0/(1.0 + np.exp(-elem))\n",
        "      self._node_out.append(np.min([out,1.0e9]))\n",
        "\n",
        "    return np.array(self._node_out)\n",
        "  \n",
        "  def backward(self,):\n",
        "    # implement this, should return error, if forward was not called and output is not updated\n",
        "    self._kernel.backward()\n",
        "    for i in range(len(self._node_out)):\n",
        "      sigma = self._node_out[i]\n",
        "      self._w[\"grad\"][i] = sigma*(1 - sigma)*self._w[\"grad\"][i]\n",
        "      self._b[\"grad\"][i] = sigma*(1 - sigma)*self._b[\"grad\"][i]\n",
        "    self._node_out = []\n",
        "\n",
        "## cross entropy Loss is child of base class\n",
        "\n",
        "class Loss(Node):\n",
        "  def __init__(self, function: Node):\n",
        "    super(Loss,self).__init__()\n",
        "    \n",
        "    # throw error if function is empty !\n",
        "\n",
        "    self._function = function # this might be any kernel object\n",
        "    ## don't forget to properly initialize weight, bias and initial value\n",
        "    self._w, self._b = function.weight_bias()\n",
        "    self._node_out = 0\n",
        "    self._Y = None\n",
        "  def forward(self,x):\n",
        "    X = x[1]\n",
        "    Y = x[0]\n",
        "    self._Y = Y\n",
        "    #implement this\n",
        "    f_out = self._function(X)\n",
        "    self._node_out = 0\n",
        "    for i in range(len(Y)):\n",
        "      self._node_out += (Y[i]*np.log(np.max([f_out[i],1.0e-20])) + (1 - Y[i])*np.log(np.max([1 - f_out[i],1.0e-20])))/len(Y)\n",
        "    return self._node_out/len(Y)\n",
        "\n",
        "  def backward(self,):\n",
        "    f_out = self._function.get_out()\n",
        "    self._function.backward()\n",
        "    total_weight_grad = np.zeros(self._w[\"grad\"][0].shape)\n",
        "    total_bias_grad = 0\n",
        "    for i in range(len(f_out)):\n",
        "      val = ((self._Y[i]/f_out[i]) - ((1 - self._Y[i])/(1 - f_out[i])))/len(f_out)\n",
        "      val = np.sign(val)*np.min([np.abs(val),1.0e200])\n",
        "      total_weight_grad += val*self._w[\"grad\"][i]\n",
        "      total_bias_grad += val*self._b[\"grad\"][i]\n",
        "    self._w[\"grad\"] = total_weight_grad\n",
        "    self._b[\"grad\"] = total_bias_grad\n",
        "    # implement this, should return error, if forward was not called and output is not updated\n",
        "    self._node_out = 0\n",
        "\n",
        "\n",
        "# optimizer is not same as  base class. \n",
        "class Optimizer:\n",
        "  def __init__(self, weight = None, bias = None, lr = 0.001):\n",
        "    self._weight = weight\n",
        "    self._bias = bias\n",
        "    self._lamda = lr\n",
        "  \n",
        "  def update(self,):\n",
        "    (J_w,J_b) = self.gradient()\n",
        "    self._weight[\"weight\"] = self._weight[\"weight\"] - J_w\n",
        "    self._bias[\"bias\"] = self._bias[\"bias\"] - J_b\n",
        "\n",
        "  def gradient(self,):\n",
        "    return (self._lamda * self._weight[\"grad\"],\n",
        "            self._lamda * self._bias[\"grad\"])\n",
        "    \n",
        "class OptimizerL2(Optimizer): # L2 regularized version of gradient descent\n",
        "  def __init__(self,weight=None,bias=None,lr=0.001,weight_decay=0.0):\n",
        "    super(OptimizerL2,self).__init__(weight,bias,lr)\n",
        "    self._weight_decay = weight_decay\n",
        "  def update(self,):\n",
        "    (J_w,J_b) = self.gradient()\n",
        "    self._weight[\"weight\"] = (1.0 - self._lamda*self._weight_decay)*self._weight[\"weight\"] - J_w\n",
        "    self._bias[\"bias\"] = (1.0 - self._lamda*self._weight_decay)*self._bias[\"bias\"] - J_b\n",
        "\n",
        "class SGD(OptimizerL2):\n",
        "  def __init__(self,weight=None,bias=None,lr=0.001,weight_decay=0.0,momentum=0.9):\n",
        "    super(OptimizerL2,self).__init__(weight,bias,lr,weight_decay)\n",
        "    self._momentum = momentum\n",
        "    self._vel = np.zeros(weight.shape)\n",
        "    self._vel_b = 0\n",
        "  def update(self,):\n",
        "    (J_w,J_b) = self.gradient()\n",
        "    self._weight[\"weight\"] = (1.0 - self._lamda*self._weight_decay)*self._weight[\"weight\"] - J_w\n",
        "    self._bias[\"bias\"] = (1.0 - self._lamda*self._weight_decay)*self._bias[\"bias\"] - J_b"
      ],
      "execution_count": null,
      "outputs": []
    },
    {
      "cell_type": "code",
      "metadata": {
        "id": "3VLPEgpAexXs"
      },
      "source": [
        "def plot_2d_line(plt,linearK):\n",
        "  x = np.array([0.1*i for i in range(-50,50)])\n",
        "  w = linearK.get_weight()[\"weight\"]\n",
        "  bias = linearK.get_bias()[\"bias\"]\n",
        "  if(abs(w[1])<1e-8):\n",
        "    w[1]=1\n",
        "  a = -w[0]/w[1]\n",
        "  b = -bias/w[1]\n",
        "  y = a*x - b\n",
        "  plt.plot(x,y,'k-')"
      ],
      "execution_count": null,
      "outputs": []
    },
    {
      "cell_type": "code",
      "metadata": {
        "id": "YcaX_cebgobI"
      },
      "source": [
        "# do not change this part\n",
        "linear = LinearKernel(2) # initialize linear kernel with x1 and x2 \n",
        "linear.set_weight([0,0]) # set initial weights to 1,1\n",
        "linear.set_bias(10)      # set bias to -1\n",
        "sigma = Sigmoid(linear)  # y = sigma(w1*x1 + w2*x2 + b)\n",
        "loss = Loss(sigma)       # \n",
        "optimizer = OptimizerL2(loss.get_weight(),loss.get_bias(),lr = 0.1,weight_decay=0.5)\n",
        "\n"
      ],
      "execution_count": null,
      "outputs": []
    },
    {
      "cell_type": "code",
      "metadata": {
        "colab": {
          "base_uri": "https://localhost:8080/",
          "height": 269
        },
        "id": "qQd2FOB4ko1N",
        "outputId": "b5ff0816-ce0d-4ebc-d631-47763187942d"
      },
      "source": [
        "# do no change this part\n",
        "plotdata(plt,X,Y)\n",
        "plot_2d_line(plt,linear)\n",
        "plt.xlim([-2,2])\n",
        "plt.ylim([-2,2])\n",
        "plt.show()\n",
        "\n",
        "# this graph you shoud show the 2d line and linear data, if you do everything properly"
      ],
      "execution_count": null,
      "outputs": [
        {
          "output_type": "display_data",
          "data": {
            "image/png": "[encoded data removed]",
            "text/plain": [
              "<Figure size 432x288 with 1 Axes>"
            ]
          },
          "metadata": {
            "tags": [],
            "needs_background": "light"
          }
        }
      ]
    },
    {
      "cell_type": "code",
      "metadata": {
        "colab": {
          "base_uri": "https://localhost:8080/"
        },
        "id": "58sXn87fCYsd",
        "outputId": "3e154015-0120-470b-cf42-d8f397829b4c"
      },
      "source": [
        "# do no change this part this is main training loop\n",
        "for i in range(1000): # you train for 100 steps\n",
        "  l = loss([Y,X]) # forward and compute the loss\n",
        "  \n",
        "  if i%100 ==99:\n",
        "    print(\"step:\",i,\" loss: \",l) # evey 10 steps, print the loss, loss should be decreasing\n",
        "  \n",
        "  loss.backward() # backpropogate the error\n",
        "  optimizer.update() # update the weights with gradient decent\n",
        "\n",
        "\n",
        "print(loss.get_bias()) # print biases\n",
        "print(loss.get_weight()) # print weight"
      ],
      "execution_count": null,
      "outputs": [
        {
          "output_type": "stream",
          "text": [
            "step: 99  loss:  -0.015478384739503859\n",
            "step: 199  loss:  -0.015478384739503864\n",
            "step: 299  loss:  -0.015478384739503864\n",
            "step: 399  loss:  -0.015478384739503864\n",
            "step: 499  loss:  -0.015478384739503864\n",
            "step: 599  loss:  -0.015478384739503864\n",
            "step: 699  loss:  -0.015478384739503864\n",
            "step: 799  loss:  -0.015478384739503864\n",
            "step: 899  loss:  -0.015478384739503864\n",
            "step: 999  loss:  -0.015478384739503864\n",
            "{'bias': -0.5829450712344293, 'grad': 0.29147253561721587}\n",
            "{'weight': array([ 1.01367367, -0.91464272]), 'grad': array([-0.50683684,  0.45732136])}\n"
          ],
          "name": "stdout"
        }
      ]
    },
    {
      "cell_type": "code",
      "metadata": {
        "colab": {
          "base_uri": "https://localhost:8080/",
          "height": 269
        },
        "id": "KSi683AuRQIt",
        "outputId": "5aa7284f-1768-4538-a7c9-075d355e5aee"
      },
      "source": [
        "# do no change this part\n",
        "plotdata(plt,X,Y)\n",
        "plot_2d_line(plt,linear)\n",
        "plt.xlim([-2,2])\n",
        "plt.ylim([-2,2])\n",
        "plt.show()\n",
        "\n",
        "# this graph you shoud uptain, if you do everything properly"
      ],
      "execution_count": null,
      "outputs": [
        {
          "output_type": "display_data",
          "data": {
            "image/png": "[encoded data removed]",
            "text/plain": [
              "<Figure size 432x288 with 1 Axes>"
            ]
          },
          "metadata": {
            "tags": [],
            "needs_background": "light"
          }
        }
      ]
    },
    {
      "cell_type": "markdown",
      "metadata": {
        "id": "CTiQb8uupY9_"
      },
      "source": [
        "## Final Exercise\n",
        "\n",
        "1. Now, generate points such that if x1^2+x2^2 < 1 they are y = 1 and y = 0 otherwise\n",
        "2. Use linear kernel of dimension 5 , but generate data such that each $\\bar{x} = [x_1, x_2, x_1x_2, x_1^2, x_2^2]$ \n",
        "3. Run optimization and check if the model could train in such case."
      ]
    },
    {
      "cell_type": "code",
      "metadata": {
        "id": "ArzBOflqpzoU"
      },
      "source": [
        ""
      ],
      "execution_count": null,
      "outputs": []
    }
  ]
}