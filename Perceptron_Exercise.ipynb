{
  "nbformat": 4,
  "nbformat_minor": 0,
  "metadata": {
    "colab": {
      "name": "Perceptron_Exercise.ipynb",
      "provenance": [],
      "collapsed_sections": []
    },
    "kernelspec": {
      "name": "python3",
      "display_name": "Python 3"
    },
    "language_info": {
      "name": "python"
    }
  },
  "cells": [
    {
      "cell_type": "markdown",
      "metadata": {
        "id": "dque73-WgpoK"
      },
      "source": [
        "# **This is tutorial on Perceptrons and Classifications**\n",
        "\n",
        "You will learn how to implement the perceptron for linear regression, linear classification and how to build nonlinear kernels\n",
        "\n",
        "I will add some theory so that you have better understanding how to implement the perceptron model.\n",
        "\n",
        "## **Basic concepts**\n",
        "\n",
        "### **Linear equation, or Linear Kernel**\n",
        "\n",
        "Overall, you can write any linear equation in this form:\n",
        "\n",
        "$y = \\sum_{i=1}^D w_ix_i + b$\n",
        "\n",
        "Here, $D$ is a length of a vector, so called dimension. If D = 1, $y = w*x+b$. If D=2 $y = w_1*x_1 + w_2*x_2 + b$ and so on. \n",
        "\n",
        "You can write this model in vector form:\n",
        "\n",
        "$y = K(\\bar{x} | \\bar{w},b)) = \\bar{w}^T\\bar{x} + b$\n",
        "\n",
        "Here, $T$ is a transposition operator. $\\bar{w}$ and $\\bar{x}$ are vectros of the same size such that $\\bar{w} = [w_1,w_2,w_3, .. , w_D]$ and $\\bar{x} = [x_1,x_2,x_3, .. , x_D]$. So, $\\bar{w}^T\\bar{x}$ is an inner product between vectors and return a scalar. K(x | w,b) means kernel given weights \"w\" and bias \"b\". Alternatively, we can say $K(\\bar{x} | \\bar{w},b)) == K(\\bar{x}) $. It doesn't mean that weight and bias disappeared. It is just hidden for convinience, but its always there. \n",
        "\n",
        "Derivatives of the $y$:\n",
        "\n",
        "## $\\frac{\\partial y}{\\partial b} = 1$\n",
        "\n",
        "## $\\frac{\\partial y }{\\partial w_i} = x_i$ \n",
        "\n",
        "or, in a vector form:\n",
        "\n",
        "## $\\frac{\\partial y }{\\partial \\bar{w}} =[\\frac{\\partial y }{\\partial w_1},\\frac{\\partial y }{\\partial w_2},..,\\frac{\\partial y }{\\partial w_D} ] = \\bar{x} = [x_1,x_2, .. , x_D]$\n",
        "\n",
        "### **Sigmoid function**\n",
        "\n",
        "Sigmoid function is very easy to express. \n",
        "\n",
        "## $ \\sigma(x) = \\frac{1}{1+e^{-x}}$\n",
        "\n",
        "Here are properties of the sigmoid function:\n",
        "\n",
        "1.   sigmoid function maps all numbers in real line $(-\\infty,\\infty)$ to the numbers in range $(0,1)$. Also, number 0 is mapped to 0.5.\n",
        "2.   Derivative of the sigmoid function:\n",
        "\n",
        "## $ \\frac{\\partial\\sigma(x)}{\\partial x} = \\sigma(x)(1-\\sigma(x))$ \n",
        "\n",
        "Above equation means that if you know the value $\\sigma(x)$ you can implement derivative of the function just by computing above equation. \n",
        "\n",
        "### **Cross entropy**\n",
        "\n",
        "general equation for cross entropy is:\n",
        "\n",
        "$CE(\\bar{p},\\bar{q}) = - \\sum_{i=1}^N p_i * log(q_i)$\n",
        "\n",
        "Cross entropy is a measure of similarity between probability distribution $\\bar{p}$ and $\\bar{q}$. If $p$ and $q$ very similar, then $CE$ will be higher, if they are different $CE$ will be lower.\n",
        "\n",
        "For binary classification, you can compute cross entropy even simpler:\n",
        "\n",
        "$CE(Y,f(X)) = - \\sum_{i=1}^N [ y_i log(f(x_i)) + (1-y_i)log(1 - f(x_i) ) ]$\n",
        "\n",
        "Keep in mind that N is number of points in training set, therefore $Y = [y_1,y_2,..y_N]$ and $ X = [\\bar{x}_1,\\bar{x}_2, ..,\\bar{x}_N]$. Also, note that elements of $X$ are vectors and not scalars, so, dimension of $Y$ is $N$ and dimension of $X$ is $N*D$. K(x) - is a kernel. Simplest kernel is linear function. \n",
        "\n",
        "Loss is negative of cross entropy:\n",
        "\n",
        "$Loss(Y,f(x)) = - CE(Y,f(x))$\n",
        "\n",
        "remember that:\n",
        "\n",
        "$\\max CE(Y,f(x)) = \\min Loss(Y,f(x))$ \n",
        "\n",
        "It means, if you try to make $Y$ and $f(X)$ similar probability functions (maximize cross entropy), then you have to minimize the loss.\n",
        "\n",
        "Derivative of the loss function with respect to optimization parameter $b$ is:\n",
        "\n",
        "## $\\frac{\\partial Loss(Y,f(x))}{\\partial b} = \\sum_{i=1}^N [ \\frac{y_i}{f(x_i)} - \\frac{1-y_i}{1 - f(x_i) } ]\\frac{\\partial f(x_i)}{\\partial b}$\n",
        "\n",
        "There are 2 reasons why use Loss over cross entropy:\n",
        "1. You remove the negative sign of the equation of $CE$ function.\n",
        "2. You will think of *minimizing* some function over maximizing. Because in regression we minimize error. In classification we minimize loss (same as saying to maximize the cross entropy)\n",
        "\n",
        "\n",
        "## **Introduction to backpropogation**\n",
        "\n",
        "### **Chain rule**\n",
        "\n",
        "Observe this effect:\n",
        "\n",
        "## $\\frac{\\partial f(g(x))}{\\partial x} = \\frac{\\partial f}{ \\partial g} * \\frac{\\partial g}{\\partial x}$\n",
        "\n",
        "Why this is usefull?\n",
        "This is how you can compute the derivative of the sigmoid activated linear function:\n",
        "## $\\frac{ \\partial \\sigma (K(\\bar{x}))}{\\partial w} = \n",
        "\\frac{\\partial \\sigma(K(\\bar{x}))}{\\partial K(\\bar{x})} * \\frac{\\partial K(x)}{\\partial w} = $\n",
        "\n",
        "### $ = [\\sigma(K(\\bar{x}))(1 - \\sigma(K(\\bar{x}))]*\\bar{x}$\n",
        "\n",
        "First part of the above equation is scalar (sigmoid derivative), second part is vector (derivative of linear kernel with respect to weights. \n",
        "\n",
        "### **Idea behind backpropogation is this**\n",
        "\n",
        "You might already see that when you compute the derivative, you need to compute the kernel and sigmoid. If you store this values, when you ***run*** your model once, you can save them to use later for computing derivatives. How to find derivatives, then? Here is simple algorithm:\n",
        "\n",
        "if you have a model F(G(H(x))):\n",
        "\n",
        "1. Find the values h = H(x), g = G(h), f = F(g). Store h,g,f. \n",
        "2. Use values of h,g,f to compute values of $ \\partial F / \\partial x$ . \n",
        "\n",
        "Step (1) is called forward propogation.\n",
        "Step (2) is called backward propogation.\n",
        "\n",
        "## **Learning Step, or Optimization with Gradient Decent**\n",
        "\n",
        "In order to find the values that minimize the loss or error, we need to find a condition, where our loss or error is minimum. From calculus, you know that its a point where gradient is zero. \n",
        "\n",
        "\n",
        "Unfortunately, you can not find the explicit equation for zero gradient of binary classifier loss function. You can try as exercise to show why (don't spend too much time, its impossible)\n",
        "\n",
        "There are however, algorithms to find the minimum of the function, if you can find the gradient of the function. Its called gradient decent optimization. Why? Here is why:\n",
        "\n",
        "1. Gradient of any function $f(w)$ is a tangent line to the function. \n",
        "2. If gradient is positive for value  $w$ function is increasing\n",
        "3. If gradient is negative for value $w$ function is decreasing.\n",
        "4. If function has a minimum, then around such minimum, as value of $x$ increases, function first decreases, then derivative is equal to zero, then function is increases. \n",
        "5. Therefore, if gradient is negative, we need to go to positive direction with respect to $w$, to minimize the function\n",
        "6. If gradient is positive, then we need to go to negative direction. \n",
        "\n",
        "Numerically, we can *** update*** our function with the folowing law:\n",
        "\n",
        "> $w_0 =$ any random number\n",
        "\n",
        "> while gradient of $f(w_k)$ is not 0 do:\n",
        "\n",
        ">> ## $w_{k+1} = w_{k} - \\lambda\\frac{\\partial f(w_k)}{\\partial w_k} $\n",
        "\n",
        "\n",
        "$k$ - is a step of the loop, so it means time. Here, $\\lambda$ is step size, normally, you choose $0 < \\lambda < 1$. You need to choose $\\lambda$ small enough to ensure optimization. If you let $\\lambda$ too big, it will not decrease the function $f(w)$. \n",
        "\n",
        "## **To wrap it up!**\n",
        "\n",
        "1. You want to find kernel $K(\\bar{x} | w,b)$ such that it will minimize cross entropy. Remeber, that cross entropy, loss and error function are function of weights and biases.\n",
        "2. You can take derivatve of loss using chain ruel. \n",
        "3. You can find both derivative and output of the model using forward and backward propogation\n",
        "4. To optimize the model, you use gradient decent algorithm.\n",
        "\n"
      ]
    },
    {
      "cell_type": "markdown",
      "metadata": {
        "id": "vAjWAHLFAq6R"
      },
      "source": [
        "# 2. **Working with data.** \n",
        "\n",
        "Here, we will generate linearly separable data for classification task. "
      ]
    },
    {
      "cell_type": "code",
      "metadata": {
        "colab": {
          "base_uri": "https://localhost:8080/",
          "height": 350
        },
        "id": "U_5yKxC2gONP",
        "outputId": "c405093a-faa9-4e6a-f4c1-f6fbefd9a9b8"
      },
      "source": [
        "import numpy as np # this is a library for working with matrix and vectors\n",
        "from matplotlib import pyplot as plt # this is for plotting the results\n",
        "import copy\n",
        "N = 100\n",
        "mean1 = [-1.0, 1.0]\n",
        "mean2 = [0.0, 0.0]\n",
        "cov = [[0.15 ,0.1 ],[0.1, 0.15]] # needs to be changed\n",
        "X = np.concatenate((np.random.multivariate_normal(mean1,cov,size = int(N/2)),\n",
        "                    np.random.multivariate_normal(mean2,cov,size = int(N/2)))) # points\n",
        "\n",
        "Y = np.concatenate((np.ones(int(N/2)),\n",
        "                    np.zeros(int(N/2))))  # Labels\n",
        "\n",
        "print(Y) # look at Y to see what is going on\n",
        "# plot the values \n",
        "def plotdata(plt,X,Y):\n",
        "  for (x,y) in zip(X,Y):\n",
        "    if (y>0):\n",
        "      plt.plot(x[0],x[1],'bx')\n",
        "    else:\n",
        "      plt.plot(x[0],x[1],'ro')\n",
        "\n",
        "plotdata(plt,X,Y)\n",
        "plt.show()"
      ],
      "execution_count": null,
      "outputs": [
        {
          "output_type": "stream",
          "text": [
            "[1. 1. 1. 1. 1. 1. 1. 1. 1. 1. 1. 1. 1. 1. 1. 1. 1. 1. 1. 1. 1. 1. 1. 1.\n",
            " 1. 1. 1. 1. 1. 1. 1. 1. 1. 1. 1. 1. 1. 1. 1. 1. 1. 1. 1. 1. 1. 1. 1. 1.\n",
            " 1. 1. 0. 0. 0. 0. 0. 0. 0. 0. 0. 0. 0. 0. 0. 0. 0. 0. 0. 0. 0. 0. 0. 0.\n",
            " 0. 0. 0. 0. 0. 0. 0. 0. 0. 0. 0. 0. 0. 0. 0. 0. 0. 0. 0. 0. 0. 0. 0. 0.\n",
            " 0. 0. 0. 0.]\n"
          ],
          "name": "stdout"
        },
        {
          "output_type": "display_data",
          "data": {
            "image/png": "[encoded data removed]",
            "text/plain": [
              "<Figure size 432x288 with 1 Axes>"
            ]
          },
          "metadata": {
            "tags": [],
            "needs_background": "light"
          }
        }
      ]
    },
    {
      "cell_type": "code",
      "metadata": {
        "colab": {
          "base_uri": "https://localhost:8080/",
          "height": 350
        },
        "id": "pEgHIvi7I48P",
        "outputId": "5b166a17-2049-447e-e4e9-2ca6a59e34ba"
      },
      "source": [
        "import random\n",
        "# we need to shuffle them\n",
        "index = list(range(len(Y)))\n",
        "random.shuffle(index)\n",
        "\n",
        "# we are shuffling both Y and X so that they preserve index\n",
        "L = list(zip(X,Y))\n",
        "\n",
        "random.shuffle(L)\n",
        "\n",
        "X,Y = zip(*L)\n",
        "X = np.array(X)\n",
        "Y = np.array(Y)\n",
        "\n",
        "print(Y) # look at how the values are shuffled\n",
        "\n",
        "# plot the values \n",
        "plotdata(plt,X,Y)\n",
        "plt.show()"
      ],
      "execution_count": null,
      "outputs": [
        {
          "output_type": "stream",
          "text": [
            "[0. 1. 1. 1. 0. 1. 1. 0. 1. 1. 1. 0. 1. 0. 1. 0. 0. 0. 1. 1. 0. 0. 0. 0.\n",
            " 1. 0. 0. 1. 1. 1. 1. 1. 1. 1. 0. 0. 0. 0. 0. 1. 0. 1. 0. 1. 0. 0. 1. 1.\n",
            " 0. 1. 0. 0. 0. 1. 1. 0. 0. 1. 1. 1. 0. 0. 0. 1. 0. 0. 0. 1. 0. 0. 1. 1.\n",
            " 1. 1. 0. 1. 0. 1. 1. 0. 1. 1. 0. 0. 0. 0. 1. 0. 1. 1. 1. 0. 1. 1. 0. 0.\n",
            " 1. 0. 0. 1.]\n"
          ],
          "name": "stdout"
        },
        {
          "output_type": "display_data",
          "data": {
            "image/png": "[encoded data removed]",
            "text/plain": [
              "<Figure size 432x288 with 1 Axes>"
            ]
          },
          "metadata": {
            "tags": [],
            "needs_background": "light"
          }
        }
      ]
    },
    {
      "cell_type": "markdown",
      "metadata": {
        "id": "TxVMtdhaA5QY"
      },
      "source": [
        "# 3. **Implementation of Linear classifier**\n",
        "\n",
        "Here, I will show how to implement linear classifier that runs on your CPU. The implementation is very similar to pytorch, so you will understand better on what is going on inside each class. However, keep in mind that this is not how pytorch impelemnts anything. I did it so that you have intuition, on things pretty fast. "
      ]
    },
    {
      "cell_type": "code",
      "metadata": {
        "id": "i18T2vrBgVSw"
      },
      "source": [
        "# Base class for any model\n",
        "class Node:\n",
        "  def __init__(self,):\n",
        "    self._w = {\"weight\":None, \"grad\": None} # weight have a value and gradient\n",
        "    self._b = {\"weight\":None, \"grad\": None} # bias also have value and gradient\n",
        "    self._node_out = None\n",
        "\n",
        "  def set_weight(self,w): # sets weights\n",
        "    self._w[\"weight\"] = w \n",
        "\n",
        "  def set_bias(self,b): # sets bias\n",
        "    self._b[\"bias\"] = b\n",
        "\n",
        "  def get_weight(self,): # gets weight\n",
        "    return self._w\n",
        "  def get_bias(self,): # gets bias\n",
        "    return self._b\n",
        "  def weight_bias(self,): # gets both weight and bias\n",
        "    return self._w, self._b\n",
        "  \n",
        "  def get_out(self,): # gets output of the node\n",
        "    return self._node_out\n",
        "  \n",
        "  def zero_grad(self,): # sets gradient of the weight and bias to zero\n",
        "    self._w[\"grad\"] = np.zeros(self._w[\"grad\"].shape)\n",
        "    self._b[\"grad\"] = 0\n",
        "  \n",
        "  def forward(self,x): # forward propogation\n",
        "    return self.node_out # does nothing, just return the value of output for base class\n",
        "  \n",
        "  def backward(self): # back propogation\n",
        "    return self._w, self.b # return derivative with respect to weights and biases, base class has no derivative\n",
        "  \n",
        "  def __call__(self,x):\n",
        "    return self.forward(x)\n",
        "\n",
        "\n",
        "## Linear kernel is child of base class\n",
        "class LinearKernel(Node):\n",
        "  def __init__(self, dimension = 1):\n",
        "    super(LinearKernel,self).__init__()\n",
        "    self._w = {\"weight\": np.random.rand(dimension), \"grad\": np.zeros(dimension)} # initialize w_0 to random gradient to zero\n",
        "    self._b = {\"bias\": np.random.rand(), \"grad\": 0} # initialize b_0 to random \n",
        "    self._node_out = []  # input to the linear kernel is batch of the data of form [x_1,x_2,x_3, .. x_N]\n",
        "    self._X = None # to store the data batch\n",
        "\n",
        "  def forward(self,x):\n",
        "    self.zero_grad() # you have to make sure that gradients are not set\n",
        "    self._X = copy.deepcopy(x) # you will need this for gradient in backward pass\n",
        "    if(len(x.shape)<2):\n",
        "      print(\"input is not correct\") # data should be at least of the form [x_1,x_2], where x_1 is a numpy array\n",
        "      return \"-1\"\n",
        "    for elem in x: # for each element in input batch, return the calculate the node values\n",
        "      # IMPLEMENT THIS ----\n",
        "\n",
        "      # END OF IMPLEMENTATION ---- \n",
        "    return np.array(self._node_out) # this is output, be carefull to set the proper values in implementation\n",
        "\n",
        "  def backward(self,):\n",
        "    # IMPLEMENT THIS, should return error, if forward was not called and output is not updated\n",
        "    \n",
        "    # END OF IMPLEMENTATION\n",
        "    self._node_out = [] # set the values to empty list\n",
        "\n",
        "## sigmoid is child of base class\n",
        "class Sigmoid(Node):\n",
        "  def __init__(self, kernel = None):\n",
        "    super(Sigmoid,self).__init__()\n",
        "    \n",
        "    # THROW ERROR if kernel is empty !\n",
        "\n",
        "    self._kernel = kernel # this might be any kernel object\n",
        "\n",
        "    ## don't forget to properly initialize weight, bias and initial value for outpu. \n",
        "    ## bias and weights are just passed from the kernel. You should keep in mind that\n",
        "    ## when bias and weight of the kernel is updated, the bias and weight of sigmoid is also updated.\n",
        "    \n",
        "\n",
        "  def forward(self,x):\n",
        "    #IMPLEMENT THIS!!\n",
        "\n",
        "    # END OF IMPLEMENTATION\n",
        "  \n",
        "  def backward(self,):\n",
        "    # IMPLEMENT THIS!!!, should return error, if forward was not called and output is not updated\n",
        "    \n",
        "    # END OF IMPLEMENTATION\n",
        "\n",
        "\n",
        "## cross entropy Loss is child of base class\n",
        "class Loss(Node):\n",
        "  def __init__(self, function: Node):\n",
        "    super(Loss,self).__init__()\n",
        "    \n",
        "    # throw error if function is empty !\n",
        "\n",
        "    self._function = function # this might be any kernel object or activation function!!!\n",
        "    \n",
        "    ## DON'T FORGET!!!! to properly initialize weight, bias and initial value for output!\n",
        "    \n",
        "\n",
        "  def forward(self,x):\n",
        "    X = x[1] # this is not trivial, but you should be passing the both data point X and label Y to the model\n",
        "    Y = x[0] # this is a lazy way to make it work\n",
        "    self._Y = Y\n",
        "    #IMPLEMENT THIS!\n",
        "\n",
        "    # END OF IMPLEMENTATION!\n",
        "\n",
        "  def backward(self,):\n",
        "    # IMPLEMENT THIS!!! , should return error, if forward was not called and output is not updated\n",
        "    \n",
        "    # END OF IMPLEMENTATION\n",
        "\n",
        "\n",
        "# optimizer is not same as  base class. \n",
        "class Optimizer:\n",
        "  def __init__(self, weight = None, bias = None, lr = 0.001):\n",
        "    self._weight = weight # weigh\n",
        "    self._bias = bias # bias\n",
        "    self._lamda = lr # learning rate or learning step size\n",
        "  \n",
        "  def update(self,): # THIS FUNCTION UPDATED WEIGHTS, AFTER GRADIENT IS COMPUTET PROPERLY!\n",
        "    # IMPLEMENT THIS!!!\n",
        "\n",
        "    # this function updates weights. You need to implement it properly\n",
        "    \n",
        "    # END OF IMPLEMENTATION!"
      ],
      "execution_count": null,
      "outputs": []
    },
    {
      "cell_type": "code",
      "metadata": {
        "id": "3VLPEgpAexXs"
      },
      "source": [
        "def plot_2d_line(plt,linearK):\n",
        "  x = np.array([0.1*i for i in range(-50,50)])\n",
        "  w = linearK.get_weight()[\"weight\"]\n",
        "  bias = linearK.get_bias()[\"bias\"]\n",
        "  if(abs(w[1])<1e-8):\n",
        "    w[1]=1\n",
        "  a = -w[0]/w[1]\n",
        "  b = -bias/w[1]\n",
        "  y = a*x - b\n",
        "  plt.plot(x,y,'k-')"
      ],
      "execution_count": null,
      "outputs": []
    },
    {
      "cell_type": "code",
      "metadata": {
        "id": "YcaX_cebgobI"
      },
      "source": [
        "# do not change this part\n",
        "linear = LinearKernel(2) # initialize linear kernel with x1 and x2 \n",
        "linear.set_weight([1,1]) # set initial weights to 1,1\n",
        "linear.set_bias(-1)      # set bias to -1\n",
        "sigma = Sigmoid(linear)  # y = sigma(w1*x1 + w2*x2 + b)\n",
        "loss = Loss(sigma)       #  CROSS ENTROPY LOSS FUNCTION \n",
        "optimizer = Optimizer(loss.get_weight(),loss.get_bias(),lr = 0.01) # MODEL UPDATES THE WEIGHTS AND BIASES with step size 0.01!!\n",
        "\n"
      ],
      "execution_count": null,
      "outputs": []
    },
    {
      "cell_type": "code",
      "metadata": {
        "colab": {
          "base_uri": "https://localhost:8080/",
          "height": 269
        },
        "id": "qQd2FOB4ko1N",
        "outputId": "aecf439f-94c7-4c3c-eafb-34849ea1a0c4"
      },
      "source": [
        "# do no change this part\n",
        "plotdata(plt,X,Y)\n",
        "plot_2d_line(plt,linear)\n",
        "plt.xlim([-2,2])\n",
        "plt.ylim([-2,2])\n",
        "plt.show()\n",
        "\n",
        "# this graph you shoud show the 2d line and linear data, if you do everything properly"
      ],
      "execution_count": null,
      "outputs": [
        {
          "output_type": "display_data",
          "data": {
            "image/png": "[encoded data removed]",
            "text/plain": [
              "<Figure size 432x288 with 1 Axes>"
            ]
          },
          "metadata": {
            "tags": [],
            "needs_background": "light"
          }
        }
      ]
    },
    {
      "cell_type": "code",
      "metadata": {
        "colab": {
          "base_uri": "https://localhost:8080/"
        },
        "id": "58sXn87fCYsd",
        "outputId": "f9df5e39-2612-4a4f-c318-3c44b68bd597"
      },
      "source": [
        "# do no change this part this is main training loop\n",
        "for i in range(100): # you train for 100 steps\n",
        "  l = loss([Y,X]) # forward and compute the loss\n",
        "  \n",
        "  if i%10 ==9:\n",
        "    print(\"step:\",i,\" loss: \",l) # evey 10 steps, print the loss, loss should be decreasing\n",
        "  \n",
        "  loss.backward() # backpropogate the error\n",
        "  optimizer.update() # update the weights with gradient decent\n",
        "\n",
        "\n",
        "print(loss.get_bias()) # print biases\n",
        "print(loss.get_weight()) # print weight\n",
        "\n",
        "\n",
        "\n",
        "# WHAT YOU SEE BELOW IS EXAMPLE OF THE LEARNING"
      ],
      "execution_count": null,
      "outputs": [
        {
          "output_type": "stream",
          "text": [
            "step: 9  loss:  -82.68679846246137\n",
            "step: 19  loss:  -90.25175900997746\n",
            "step: 29  loss:  -97.81671958109517\n",
            "step: 39  loss:  -105.38168016093881\n",
            "step: 49  loss:  -112.9466407440086\n",
            "step: 59  loss:  -120.51160132827118\n",
            "step: 69  loss:  -128.07656191297477\n",
            "step: 79  loss:  -135.64152249784135\n",
            "step: 89  loss:  -143.2064830827682\n",
            "step: 99  loss:  -150.77144366771742\n",
            "{'bias': -100.78494076247758, 'grad': array(50.)}\n",
            "{'weight': array([105.93157934, -94.7364643 ]), 'grad': array([-52.56239449,  47.98078021])}\n"
          ],
          "name": "stdout"
        }
      ]
    },
    {
      "cell_type": "code",
      "metadata": {
        "colab": {
          "base_uri": "https://localhost:8080/",
          "height": 269
        },
        "id": "KSi683AuRQIt",
        "outputId": "2d01601f-dcd0-4333-83cc-f11fabd6b4f2"
      },
      "source": [
        "# do no change this part\n",
        "plotdata(plt,X,Y)\n",
        "plot_2d_line(plt,linear)\n",
        "plt.xlim([-2,2])\n",
        "plt.ylim([-2,2])\n",
        "plt.show()\n",
        "\n",
        "# this graph you shoud uptain, if you do everything properly"
      ],
      "execution_count": null,
      "outputs": [
        {
          "output_type": "display_data",
          "data": {
            "image/png": "[encoded data removed]",
            "text/plain": [
              "<Figure size 432x288 with 1 Axes>"
            ]
          },
          "metadata": {
            "tags": [],
            "needs_background": "light"
          }
        }
      ]
    },
    {
      "cell_type": "markdown",
      "metadata": {
        "id": "CTiQb8uupY9_"
      },
      "source": [
        "## Final Exercise\n",
        "\n",
        "1. Now, generate points such that if x1^2+x2^2 < 1 they are y = 1 and y = 0 otherwise\n",
        "2. Use linear kernel of dimension 5 , but generate data such that each $\\bar{x} = [x_1, x_2, x_1x_2, x_1^2, x_2^2]$ \n",
        "3. Run optimization and check if the model could train in such case."
      ]
    },
    {
      "cell_type": "code",
      "metadata": {
        "id": "ArzBOflqpzoU"
      },
      "source": [
        ""
      ],
      "execution_count": null,
      "outputs": []
    }
  ]
}